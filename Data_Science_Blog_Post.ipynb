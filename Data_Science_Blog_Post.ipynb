{
 "cells": [
  {
   "cell_type": "markdown",
   "id": "e570e57e-ec11-49df-82bf-e9c21fc8231d",
   "metadata": {},
   "source": [
    "### **Packages**"
   ]
  },
  {
   "cell_type": "code",
   "execution_count": 1,
   "id": "e89e1526-dae4-456d-a345-c46780e73415",
   "metadata": {},
   "outputs": [],
   "source": [
    "#Load packages\n",
    "import pandas as pd\n",
    "import numpy as np\n",
    "import matplotlib.pyplot as plt\n",
    "import matplotlib.ticker as mtick\n",
    "\n",
    "import warnings\n",
    "warnings.filterwarnings('ignore')"
   ]
  },
  {
   "cell_type": "markdown",
   "id": "8a05583b-d12c-41b7-8dcc-b6d2a5ad9158",
   "metadata": {},
   "source": [
    "### **Data**"
   ]
  },
  {
   "cell_type": "code",
   "execution_count": 2,
   "id": "b25a02de-b10b-482b-81c9-4fc1e7413bc1",
   "metadata": {},
   "outputs": [],
   "source": [
    "#Load data (2024 Stack Overflow Developer Survey)\n",
    "df = pd.read_csv('survey_results_public.csv')"
   ]
  },
  {
   "cell_type": "code",
   "execution_count": 3,
   "id": "c3569125-5cd5-44d4-808a-deb6a51d4151",
   "metadata": {},
   "outputs": [],
   "source": [
    "#Filter the data so it only contains the survey results for those who are professional software developers\n",
    "developer_df = df[df['MainBranch'] == 'I am a developer by profession']"
   ]
  },
  {
   "cell_type": "code",
   "execution_count": 4,
   "id": "ec732f13-58bc-4456-973e-4652a8f53727",
   "metadata": {},
   "outputs": [
    {
     "data": {
      "text/plain": [
       "(50207, 114)"
      ]
     },
     "execution_count": 4,
     "metadata": {},
     "output_type": "execute_result"
    }
   ],
   "source": [
    "#Examine the number of rows and columns in the data\n",
    "developer_df.shape"
   ]
  },
  {
   "cell_type": "code",
   "execution_count": 5,
   "id": "98b3fc60-9b35-43ab-aacf-3709f4b649b7",
   "metadata": {},
   "outputs": [
    {
     "data": {
      "text/html": [
       "<div>\n",
       "<style scoped>\n",
       "    .dataframe tbody tr th:only-of-type {\n",
       "        vertical-align: middle;\n",
       "    }\n",
       "\n",
       "    .dataframe tbody tr th {\n",
       "        vertical-align: top;\n",
       "    }\n",
       "\n",
       "    .dataframe thead th {\n",
       "        text-align: right;\n",
       "    }\n",
       "</style>\n",
       "<table border=\"1\" class=\"dataframe\">\n",
       "  <thead>\n",
       "    <tr style=\"text-align: right;\">\n",
       "      <th></th>\n",
       "      <th>ResponseId</th>\n",
       "      <th>MainBranch</th>\n",
       "      <th>Age</th>\n",
       "      <th>Employment</th>\n",
       "      <th>RemoteWork</th>\n",
       "      <th>Check</th>\n",
       "      <th>CodingActivities</th>\n",
       "      <th>EdLevel</th>\n",
       "      <th>LearnCode</th>\n",
       "      <th>LearnCodeOnline</th>\n",
       "      <th>...</th>\n",
       "      <th>JobSatPoints_6</th>\n",
       "      <th>JobSatPoints_7</th>\n",
       "      <th>JobSatPoints_8</th>\n",
       "      <th>JobSatPoints_9</th>\n",
       "      <th>JobSatPoints_10</th>\n",
       "      <th>JobSatPoints_11</th>\n",
       "      <th>SurveyLength</th>\n",
       "      <th>SurveyEase</th>\n",
       "      <th>ConvertedCompYearly</th>\n",
       "      <th>JobSat</th>\n",
       "    </tr>\n",
       "  </thead>\n",
       "  <tbody>\n",
       "    <tr>\n",
       "      <th>0</th>\n",
       "      <td>1</td>\n",
       "      <td>I am a developer by profession</td>\n",
       "      <td>Under 18 years old</td>\n",
       "      <td>Employed, full-time</td>\n",
       "      <td>Remote</td>\n",
       "      <td>Apples</td>\n",
       "      <td>Hobby</td>\n",
       "      <td>Primary/elementary school</td>\n",
       "      <td>Books / Physical media</td>\n",
       "      <td>NaN</td>\n",
       "      <td>...</td>\n",
       "      <td>NaN</td>\n",
       "      <td>NaN</td>\n",
       "      <td>NaN</td>\n",
       "      <td>NaN</td>\n",
       "      <td>NaN</td>\n",
       "      <td>NaN</td>\n",
       "      <td>NaN</td>\n",
       "      <td>NaN</td>\n",
       "      <td>NaN</td>\n",
       "      <td>NaN</td>\n",
       "    </tr>\n",
       "    <tr>\n",
       "      <th>1</th>\n",
       "      <td>2</td>\n",
       "      <td>I am a developer by profession</td>\n",
       "      <td>35-44 years old</td>\n",
       "      <td>Employed, full-time</td>\n",
       "      <td>Remote</td>\n",
       "      <td>Apples</td>\n",
       "      <td>Hobby;Contribute to open-source projects;Other...</td>\n",
       "      <td>Bachelor’s degree (B.A., B.S., B.Eng., etc.)</td>\n",
       "      <td>Books / Physical media;Colleague;On the job tr...</td>\n",
       "      <td>Technical documentation;Blogs;Books;Written Tu...</td>\n",
       "      <td>...</td>\n",
       "      <td>0.0</td>\n",
       "      <td>0.0</td>\n",
       "      <td>0.0</td>\n",
       "      <td>0.0</td>\n",
       "      <td>0.0</td>\n",
       "      <td>0.0</td>\n",
       "      <td>NaN</td>\n",
       "      <td>NaN</td>\n",
       "      <td>NaN</td>\n",
       "      <td>NaN</td>\n",
       "    </tr>\n",
       "    <tr>\n",
       "      <th>2</th>\n",
       "      <td>3</td>\n",
       "      <td>I am a developer by profession</td>\n",
       "      <td>45-54 years old</td>\n",
       "      <td>Employed, full-time</td>\n",
       "      <td>Remote</td>\n",
       "      <td>Apples</td>\n",
       "      <td>Hobby;Contribute to open-source projects;Other...</td>\n",
       "      <td>Master’s degree (M.A., M.S., M.Eng., MBA, etc.)</td>\n",
       "      <td>Books / Physical media;Colleague;On the job tr...</td>\n",
       "      <td>Technical documentation;Blogs;Books;Written Tu...</td>\n",
       "      <td>...</td>\n",
       "      <td>NaN</td>\n",
       "      <td>NaN</td>\n",
       "      <td>NaN</td>\n",
       "      <td>NaN</td>\n",
       "      <td>NaN</td>\n",
       "      <td>NaN</td>\n",
       "      <td>Appropriate in length</td>\n",
       "      <td>Easy</td>\n",
       "      <td>NaN</td>\n",
       "      <td>NaN</td>\n",
       "    </tr>\n",
       "    <tr>\n",
       "      <th>4</th>\n",
       "      <td>5</td>\n",
       "      <td>I am a developer by profession</td>\n",
       "      <td>18-24 years old</td>\n",
       "      <td>Student, full-time</td>\n",
       "      <td>NaN</td>\n",
       "      <td>Apples</td>\n",
       "      <td>NaN</td>\n",
       "      <td>Secondary school (e.g. American high school, G...</td>\n",
       "      <td>Other online resources (e.g., videos, blogs, f...</td>\n",
       "      <td>Technical documentation;Blogs;Written Tutorial...</td>\n",
       "      <td>...</td>\n",
       "      <td>NaN</td>\n",
       "      <td>NaN</td>\n",
       "      <td>NaN</td>\n",
       "      <td>NaN</td>\n",
       "      <td>NaN</td>\n",
       "      <td>NaN</td>\n",
       "      <td>Too short</td>\n",
       "      <td>Easy</td>\n",
       "      <td>NaN</td>\n",
       "      <td>NaN</td>\n",
       "    </tr>\n",
       "    <tr>\n",
       "      <th>9</th>\n",
       "      <td>10</td>\n",
       "      <td>I am a developer by profession</td>\n",
       "      <td>35-44 years old</td>\n",
       "      <td>Independent contractor, freelancer, or self-em...</td>\n",
       "      <td>Remote</td>\n",
       "      <td>Apples</td>\n",
       "      <td>Bootstrapping a business</td>\n",
       "      <td>Master’s degree (M.A., M.S., M.Eng., MBA, etc.)</td>\n",
       "      <td>On the job training;Other online resources (e....</td>\n",
       "      <td>Technical documentation;Blogs;Written Tutorial...</td>\n",
       "      <td>...</td>\n",
       "      <td>NaN</td>\n",
       "      <td>NaN</td>\n",
       "      <td>NaN</td>\n",
       "      <td>NaN</td>\n",
       "      <td>NaN</td>\n",
       "      <td>NaN</td>\n",
       "      <td>Too long</td>\n",
       "      <td>Easy</td>\n",
       "      <td>NaN</td>\n",
       "      <td>NaN</td>\n",
       "    </tr>\n",
       "  </tbody>\n",
       "</table>\n",
       "<p>5 rows × 114 columns</p>\n",
       "</div>"
      ],
      "text/plain": [
       "   ResponseId                      MainBranch                 Age  \\\n",
       "0           1  I am a developer by profession  Under 18 years old   \n",
       "1           2  I am a developer by profession     35-44 years old   \n",
       "2           3  I am a developer by profession     45-54 years old   \n",
       "4           5  I am a developer by profession     18-24 years old   \n",
       "9          10  I am a developer by profession     35-44 years old   \n",
       "\n",
       "                                          Employment RemoteWork   Check  \\\n",
       "0                                Employed, full-time     Remote  Apples   \n",
       "1                                Employed, full-time     Remote  Apples   \n",
       "2                                Employed, full-time     Remote  Apples   \n",
       "4                                 Student, full-time        NaN  Apples   \n",
       "9  Independent contractor, freelancer, or self-em...     Remote  Apples   \n",
       "\n",
       "                                    CodingActivities  \\\n",
       "0                                              Hobby   \n",
       "1  Hobby;Contribute to open-source projects;Other...   \n",
       "2  Hobby;Contribute to open-source projects;Other...   \n",
       "4                                                NaN   \n",
       "9                           Bootstrapping a business   \n",
       "\n",
       "                                             EdLevel  \\\n",
       "0                          Primary/elementary school   \n",
       "1       Bachelor’s degree (B.A., B.S., B.Eng., etc.)   \n",
       "2    Master’s degree (M.A., M.S., M.Eng., MBA, etc.)   \n",
       "4  Secondary school (e.g. American high school, G...   \n",
       "9    Master’s degree (M.A., M.S., M.Eng., MBA, etc.)   \n",
       "\n",
       "                                           LearnCode  \\\n",
       "0                             Books / Physical media   \n",
       "1  Books / Physical media;Colleague;On the job tr...   \n",
       "2  Books / Physical media;Colleague;On the job tr...   \n",
       "4  Other online resources (e.g., videos, blogs, f...   \n",
       "9  On the job training;Other online resources (e....   \n",
       "\n",
       "                                     LearnCodeOnline  ... JobSatPoints_6  \\\n",
       "0                                                NaN  ...            NaN   \n",
       "1  Technical documentation;Blogs;Books;Written Tu...  ...            0.0   \n",
       "2  Technical documentation;Blogs;Books;Written Tu...  ...            NaN   \n",
       "4  Technical documentation;Blogs;Written Tutorial...  ...            NaN   \n",
       "9  Technical documentation;Blogs;Written Tutorial...  ...            NaN   \n",
       "\n",
       "  JobSatPoints_7 JobSatPoints_8 JobSatPoints_9 JobSatPoints_10  \\\n",
       "0            NaN            NaN            NaN             NaN   \n",
       "1            0.0            0.0            0.0             0.0   \n",
       "2            NaN            NaN            NaN             NaN   \n",
       "4            NaN            NaN            NaN             NaN   \n",
       "9            NaN            NaN            NaN             NaN   \n",
       "\n",
       "  JobSatPoints_11           SurveyLength SurveyEase ConvertedCompYearly JobSat  \n",
       "0             NaN                    NaN        NaN                 NaN    NaN  \n",
       "1             0.0                    NaN        NaN                 NaN    NaN  \n",
       "2             NaN  Appropriate in length       Easy                 NaN    NaN  \n",
       "4             NaN              Too short       Easy                 NaN    NaN  \n",
       "9             NaN               Too long       Easy                 NaN    NaN  \n",
       "\n",
       "[5 rows x 114 columns]"
      ]
     },
     "execution_count": 5,
     "metadata": {},
     "output_type": "execute_result"
    }
   ],
   "source": [
    "#Examine the structure and content of the data\n",
    "developer_df.head()"
   ]
  },
  {
   "cell_type": "markdown",
   "id": "acb3c7f1-dbe6-4792-8327-8d3aee04b0bb",
   "metadata": {},
   "source": [
    "### **Questions**"
   ]
  },
  {
   "cell_type": "markdown",
   "id": "f52695ea-2f67-4ef5-94f0-c0c0445325ed",
   "metadata": {},
   "source": [
    "#### **1. Do Software Developers Feel Threatened By AI?**"
   ]
  },
  {
   "cell_type": "code",
   "execution_count": 6,
   "id": "7dc0fbc6-c929-439d-8326-af4066ba6580",
   "metadata": {},
   "outputs": [
    {
     "data": {
      "text/plain": [
       "np.int64(15298)"
      ]
     },
     "execution_count": 6,
     "metadata": {},
     "output_type": "execute_result"
    }
   ],
   "source": [
    "#Check for any missing values in the 'AIThreat' column\n",
    "developer_df['AIThreat'].isnull().sum()"
   ]
  },
  {
   "cell_type": "code",
   "execution_count": 7,
   "id": "a6f153e1-85bc-44eb-a182-02e39266dbcb",
   "metadata": {},
   "outputs": [],
   "source": [
    "#Impute any missing values with the mode in the 'AIThreat' column (the mode is a common method for handling missing values for categorical data)\n",
    "developer_df['AIThreat'] = developer_df['AIThreat'].fillna(developer_df['AIThreat'].mode()[0])"
   ]
  },
  {
   "cell_type": "code",
   "execution_count": 8,
   "id": "230fef95-4a71-4570-83db-294628c37ad9",
   "metadata": {},
   "outputs": [
    {
     "name": "stdout",
     "output_type": "stream",
     "text": [
      "AIThreat\n",
      "No              39495\n",
      "I'm not sure     6675\n",
      "Yes              4037\n",
      "Name: count, dtype: int64\n"
     ]
    }
   ],
   "source": [
    "#Examine the value counts in the the 'AIThreat' column\n",
    "AIThreat_counts = developer_df['AIThreat'].value_counts()\n",
    "print(AIThreat_counts)"
   ]
  },
  {
   "cell_type": "code",
   "execution_count": 9,
   "id": "79d0d6a5-0f32-4305-a3db-22515ee0e749",
   "metadata": {},
   "outputs": [],
   "source": [
    "#Relabel 'I'm not sure' to 'Undecided' in the 'AIThreat' column\n",
    "developer_df['AIThreat'] = developer_df['AIThreat'].replace(\"I'm not sure\", \"Undecided\")"
   ]
  },
  {
   "cell_type": "code",
   "execution_count": 10,
   "id": "5f5205f4-8d8f-4a80-9919-b2cb2a14579f",
   "metadata": {},
   "outputs": [
    {
     "name": "stdout",
     "output_type": "stream",
     "text": [
      "AIThreat\n",
      "No           39495\n",
      "Undecided     6675\n",
      "Yes           4037\n",
      "Name: count, dtype: int64\n"
     ]
    }
   ],
   "source": [
    "#Examine the value counts in the modified 'AIThreat' column\n",
    "AIThreat_counts = developer_df['AIThreat'].value_counts()\n",
    "print(AIThreat_counts)"
   ]
  },
  {
   "cell_type": "code",
   "execution_count": 11,
   "id": "ea15011d-63a5-405b-bd09-4a63df9a87bd",
   "metadata": {},
   "outputs": [],
   "source": [
    "#Modify the value counts to be percentages in the modified 'AIThreat' column\n",
    "AIThreat_percentages = AIThreat_counts / len(developer_df) * 100"
   ]
  },
  {
   "cell_type": "code",
   "execution_count": 12,
   "id": "7ab851a6-4430-440f-ae43-aae3a13abbbd",
   "metadata": {},
   "outputs": [
    {
     "data": {
      "image/png": "[encoded data removed]",
      "text/plain": [
       "<Figure size 640x480 with 1 Axes>"
      ]
     },
     "metadata": {},
     "output_type": "display_data"
    }
   ],
   "source": [
    "#Create the bar chart\n",
    "fig, ax = plt.subplots()\n",
    "bars = ax.bar(AIThreat_percentages.index, AIThreat_percentages.values)\n",
    "\n",
    "#Create the x- and y-axis labels \n",
    "plt.xlabel('AI Threat')\n",
    "plt.xticks(rotation='vertical')\n",
    "plt.ylabel('% of Respondents')\n",
    "ax.yaxis.set_major_formatter(mtick.PercentFormatter()) #Format counts as percentages\n",
    "\n",
    "#Show the plot\n",
    "plt.show()"
   ]
  },
  {
   "cell_type": "markdown",
   "id": "58ca4ea7-4379-4b17-878c-af38354de61e",
   "metadata": {},
   "source": [
    "##### **Software developers do not feel threatened by AI.**"
   ]
  },
  {
   "cell_type": "code",
   "execution_count": null,
   "id": "7d2d972f-061b-40d3-8785-6e8b84620de6",
   "metadata": {},
   "outputs": [],
   "source": [
    "##################################################################################"
   ]
  },
  {
   "cell_type": "code",
   "execution_count": 13,
   "id": "1ecebdcf-cca2-4cc3-a8b4-102df8bd17b1",
   "metadata": {},
   "outputs": [],
   "source": [
    "#Filter the data so it only contains the survey results for those professional developers who consider Al to be a threat\n",
    "AI_Threat_developer_df = developer_df[developer_df['AIThreat'] == 'Yes']"
   ]
  },
  {
   "cell_type": "markdown",
   "id": "64fe7d3a-51b2-44e4-b6a8-1f4960fb5f4d",
   "metadata": {},
   "source": [
    "#### **2. What Is The Work Model Of Software Developers Who Feel Threatened By AI?**"
   ]
  },
  {
   "cell_type": "code",
   "execution_count": 14,
   "id": "57d0a0f8-529a-42c4-819f-d0e496a10099",
   "metadata": {},
   "outputs": [
    {
     "data": {
      "text/plain": [
       "np.int64(382)"
      ]
     },
     "execution_count": 14,
     "metadata": {},
     "output_type": "execute_result"
    }
   ],
   "source": [
    "#Check for any missing values in the 'RemoteWork' column\n",
    "AI_Threat_developer_df['RemoteWork'].isnull().sum()"
   ]
  },
  {
   "cell_type": "code",
   "execution_count": 15,
   "id": "6a46a94b-288f-4107-bd39-848513561f64",
   "metadata": {},
   "outputs": [],
   "source": [
    "#Impute any missing values with the mode in the 'RemoteWork' column (the mode is a common method for handling missing values for categorical data)\n",
    "AI_Threat_developer_df['RemoteWork'] = AI_Threat_developer_df['RemoteWork'].fillna(AI_Threat_developer_df['RemoteWork'].mode()[0])"
   ]
  },
  {
   "cell_type": "code",
   "execution_count": 16,
   "id": "12564d5c-bdc6-4583-b450-6a03ddf9b14d",
   "metadata": {},
   "outputs": [
    {
     "name": "stdout",
     "output_type": "stream",
     "text": [
      "RemoteWork\n",
      "Remote                                  1907\n",
      "Hybrid (some remote, some in-person)    1465\n",
      "In-person                                665\n",
      "Name: count, dtype: int64\n"
     ]
    }
   ],
   "source": [
    "#Examine the value counts in the 'RemoteWork' column\n",
    "RemoteWork_counts = AI_Threat_developer_df['RemoteWork'].value_counts()\n",
    "print(RemoteWork_counts)"
   ]
  },
  {
   "cell_type": "code",
   "execution_count": 17,
   "id": "43f84e44-fa3d-4d24-8b7c-2f284ada6d2d",
   "metadata": {},
   "outputs": [],
   "source": [
    "#Relabel 'Hybrid (some remote, some in-person)' to 'Hybrid' in the 'RemoteWork' column\n",
    "AI_Threat_developer_df['RemoteWork'] = AI_Threat_developer_df['RemoteWork'].replace(\"Hybrid (some remote, some in-person)\", \"Hybrid\")"
   ]
  },
  {
   "cell_type": "code",
   "execution_count": 18,
   "id": "ba2f67dc-64c7-4a74-869f-0623b93888ec",
   "metadata": {},
   "outputs": [
    {
     "name": "stdout",
     "output_type": "stream",
     "text": [
      "RemoteWork\n",
      "Remote       1907\n",
      "Hybrid       1465\n",
      "In-person     665\n",
      "Name: count, dtype: int64\n"
     ]
    }
   ],
   "source": [
    "#Examine the value counts in the modified 'RemoteWork' column\n",
    "RemoteWork_counts = AI_Threat_developer_df['RemoteWork'].value_counts()\n",
    "print(RemoteWork_counts)"
   ]
  },
  {
   "cell_type": "code",
   "execution_count": 19,
   "id": "c0eabe83-978f-429f-8791-99f1d3da22fd",
   "metadata": {},
   "outputs": [],
   "source": [
    "#Modify the value counts to be percentages in the 'RemoteWork' column\n",
    "RemoteWork_percentages = RemoteWork_counts / len(AI_Threat_developer_df) * 100"
   ]
  },
  {
   "cell_type": "code",
   "execution_count": 20,
   "id": "765b1b52-4d5c-4e61-9104-c81009c6e206",
   "metadata": {},
   "outputs": [
    {
     "data": {
      "image/png": "[encoded data removed]",
      "text/plain": [
       "<Figure size 640x480 with 1 Axes>"
      ]
     },
     "metadata": {},
     "output_type": "display_data"
    }
   ],
   "source": [
    "# Create the bar chart\n",
    "fig, ax = plt.subplots()\n",
    "bars = ax.bar(RemoteWork_percentages.index, RemoteWork_percentages.values)\n",
    "\n",
    "#Create the x- and y-axis labels \n",
    "plt.xlabel('Work Model')\n",
    "plt.xticks(rotation='vertical')\n",
    "plt.ylabel('% of Respondents')\n",
    "ax.yaxis.set_major_formatter(mtick.PercentFormatter()) #Format counts as percentages\n",
    "\n",
    "#Show the plot\n",
    "plt.show()"
   ]
  },
  {
   "cell_type": "markdown",
   "id": "8ba43251-5301-49cb-82ef-3f544b4c0793",
   "metadata": {},
   "source": [
    "##### **Software developers who feel threatened by AI primarily work remotely.**"
   ]
  },
  {
   "cell_type": "markdown",
   "id": "cf668f63-b240-4ad6-bbfa-e8d310998a47",
   "metadata": {},
   "source": [
    "#### **3. How Many Years of Experience Do Software Developers Who Feel Threatened By AI Have?**"
   ]
  },
  {
   "cell_type": "code",
   "execution_count": 21,
   "id": "e28394a0-b586-4293-9155-581eb807b448",
   "metadata": {},
   "outputs": [
    {
     "data": {
      "text/plain": [
       "np.int64(1845)"
      ]
     },
     "execution_count": 21,
     "metadata": {},
     "output_type": "execute_result"
    }
   ],
   "source": [
    "#Check for any missing values in the 'WorkExp' column\n",
    "AI_Threat_developer_df['WorkExp'].isnull().sum()"
   ]
  },
  {
   "cell_type": "code",
   "execution_count": 22,
   "id": "4a323255-8a3e-4ec1-bbcd-70bad5bf09d9",
   "metadata": {},
   "outputs": [],
   "source": [
    "#Impute any missing values with the mean in the 'WorkExp' column (although this column is numerical, the numbers are discrete so I thought the mode would be better for imputing missing value than the mean)\n",
    "AI_Threat_developer_df['WorkExp'] = AI_Threat_developer_df['WorkExp'].fillna(AI_Threat_developer_df['WorkExp'].mode()[0])"
   ]
  },
  {
   "cell_type": "code",
   "execution_count": 23,
   "id": "49df8633-3afd-4604-b1f0-a47f8570f090",
   "metadata": {},
   "outputs": [
    {
     "name": "stdout",
     "output_type": "stream",
     "text": [
      "WorkExp\n",
      "3.0     2023\n",
      "10.0     159\n",
      "5.0      151\n",
      "2.0      150\n",
      "7.0      147\n",
      "4.0      143\n",
      "8.0      139\n",
      "6.0      122\n",
      "1.0      114\n",
      "15.0      96\n",
      "12.0      94\n",
      "20.0      76\n",
      "9.0       59\n",
      "13.0      55\n",
      "25.0      54\n",
      "14.0      47\n",
      "18.0      44\n",
      "11.0      42\n",
      "16.0      40\n",
      "17.0      37\n",
      "24.0      34\n",
      "30.0      29\n",
      "22.0      19\n",
      "26.0      16\n",
      "19.0      16\n",
      "0.0       16\n",
      "23.0      13\n",
      "21.0      12\n",
      "27.0      11\n",
      "31.0      10\n",
      "28.0       9\n",
      "29.0       8\n",
      "50.0       8\n",
      "33.0       7\n",
      "40.0       7\n",
      "35.0       6\n",
      "38.0       6\n",
      "34.0       4\n",
      "45.0       3\n",
      "36.0       3\n",
      "32.0       2\n",
      "44.0       2\n",
      "37.0       1\n",
      "46.0       1\n",
      "39.0       1\n",
      "42.0       1\n",
      "Name: count, dtype: int64\n"
     ]
    }
   ],
   "source": [
    "#Examine the value counts in the 'WorkExp' column\n",
    "WorkExp_counts = AI_Threat_developer_df['WorkExp'].value_counts()\n",
    "print(WorkExp_counts)"
   ]
  },
  {
   "cell_type": "code",
   "execution_count": 24,
   "id": "bf83a5ef-3cf4-44a9-b78b-e86b89711deb",
   "metadata": {},
   "outputs": [],
   "source": [
    "#Recode numerical values into categorical ones in the 'WorkExp' column\n",
    "AI_Threat_developer_df['WorkExp'] = np.where((AI_Threat_developer_df['WorkExp'] >= 10) & (AI_Threat_developer_df['WorkExp'] < 20), '10-19 Years', \n",
    "                             np.where((AI_Threat_developer_df['WorkExp'] >= 20) & (AI_Threat_developer_df['WorkExp'] < 30), '20-29 Years',\n",
    "                             np.where((AI_Threat_developer_df['WorkExp'] >= 30) & (AI_Threat_developer_df['WorkExp'] < 40), '30-39 Years',\n",
    "                             np.where((AI_Threat_developer_df['WorkExp'] >= 40) & (AI_Threat_developer_df['WorkExp'] < 49), '40-49 Years',\n",
    "                            '1-9 Years'))))"
   ]
  },
  {
   "cell_type": "code",
   "execution_count": 25,
   "id": "89ec3a17-b62c-47cc-aa5a-baf6b0d242b5",
   "metadata": {},
   "outputs": [
    {
     "name": "stdout",
     "output_type": "stream",
     "text": [
      "WorkExp\n",
      "1-9 Years      3072\n",
      "10-19 Years     630\n",
      "20-29 Years     252\n",
      "30-39 Years      69\n",
      "40-49 Years      14\n",
      "Name: count, dtype: int64\n"
     ]
    }
   ],
   "source": [
    "#Examine the value counts in the modified 'WorkExp' column\n",
    "WorkExp_counts = AI_Threat_developer_df['WorkExp'].value_counts()\n",
    "print(WorkExp_counts)"
   ]
  },
  {
   "cell_type": "code",
   "execution_count": 26,
   "id": "fea2c4bd-32d4-4ff3-ba69-2c38c01a6943",
   "metadata": {},
   "outputs": [],
   "source": [
    "#Modify the value counts to be percentages in the modified 'WorkExp' column\n",
    "WorkExp_percentages = WorkExp_counts / len(AI_Threat_developer_df) * 100"
   ]
  },
  {
   "cell_type": "code",
   "execution_count": 27,
   "id": "a376350b-3035-4601-b4e5-e9b532398344",
   "metadata": {},
   "outputs": [
    {
     "data": {
      "image/png": "[encoded data removed]",
      "text/plain": [
       "<Figure size 640x480 with 1 Axes>"
      ]
     },
     "metadata": {},
     "output_type": "display_data"
    }
   ],
   "source": [
    "# Create the bar chart\n",
    "fig, ax = plt.subplots()\n",
    "bars = ax.bar(WorkExp_percentages.index, WorkExp_percentages.values)\n",
    "\n",
    "#Create the x- and y-axis labels\n",
    "plt.xlabel('Work Experience')\n",
    "plt.xticks(rotation='vertical')\n",
    "plt.ylabel('% of Respondents')\n",
    "ax.yaxis.set_major_formatter(mtick.PercentFormatter()) #Format counts as percentages\n",
    "\n",
    "# Show the plot\n",
    "plt.show()"
   ]
  },
  {
   "cell_type": "markdown",
   "id": "83d809d1-f723-4443-b968-63f127e022e5",
   "metadata": {},
   "source": [
    "##### **Software developers who feel threatened by AI primarily have less than 10 years of experience.**"
   ]
  },
  {
   "cell_type": "markdown",
   "id": "9840034d-ed2a-430d-9b0d-cb5f7259d9a1",
   "metadata": {},
   "source": [
    "#### **4. What Is The Level of Education Of Those Professional Developers Who Consider AI To Be A Threat?**"
   ]
  },
  {
   "cell_type": "code",
   "execution_count": 28,
   "id": "50717f8d-8779-4027-8cd9-e3810ceecf3b",
   "metadata": {},
   "outputs": [
    {
     "data": {
      "text/plain": [
       "np.int64(107)"
      ]
     },
     "execution_count": 28,
     "metadata": {},
     "output_type": "execute_result"
    }
   ],
   "source": [
    "#Check for any missing values in the 'EdLevel' column\n",
    "AI_Threat_developer_df['EdLevel'].isnull().sum()"
   ]
  },
  {
   "cell_type": "code",
   "execution_count": 29,
   "id": "fe16f933-c388-4389-9ed7-6e5ee7875f11",
   "metadata": {},
   "outputs": [],
   "source": [
    "#Impute any missing values with the mode in the 'WorkExp' column (the mode is a common method for handling missing values for categorical data)\n",
    "AI_Threat_developer_df['EdLevel'] = AI_Threat_developer_df['EdLevel'].fillna(AI_Threat_developer_df['EdLevel'].mode()[0])"
   ]
  },
  {
   "cell_type": "code",
   "execution_count": 30,
   "id": "5d8f3730-b86e-4fd1-bf28-802045de3084",
   "metadata": {},
   "outputs": [
    {
     "name": "stdout",
     "output_type": "stream",
     "text": [
      "EdLevel\n",
      "Bachelor’s degree (B.A., B.S., B.Eng., etc.)                                          1965\n",
      "Master’s degree (M.A., M.S., M.Eng., MBA, etc.)                                       1084\n",
      "Some college/university study without earning a degree                                 453\n",
      "Secondary school (e.g. American high school, German Realschule or Gymnasium, etc.)     208\n",
      "Associate degree (A.A., A.S., etc.)                                                    126\n",
      "Professional degree (JD, MD, Ph.D, Ed.D, etc.)                                         117\n",
      "Something else                                                                          49\n",
      "Primary/elementary school                                                               35\n",
      "Name: count, dtype: int64\n"
     ]
    }
   ],
   "source": [
    "#Examine the value counts in the 'EdLevel' column\n",
    "EdLevel_counts = AI_Threat_developer_df['EdLevel'].value_counts()\n",
    "print(EdLevel_counts)"
   ]
  },
  {
   "cell_type": "code",
   "execution_count": 31,
   "id": "6205ffcf-65e3-46d5-882d-e46a522b746b",
   "metadata": {},
   "outputs": [],
   "source": [
    "#Recode values in the 'EdLevel' column\n",
    "AI_Threat_developer_df['EdLevel'] = np.where((AI_Threat_developer_df['EdLevel'] == \"Bachelor’s degree (B.A., B.S., B.Eng., etc.)\"),\"Bachelor's Degree\", \n",
    "                             np.where((AI_Threat_developer_df['EdLevel'] == \"Master’s degree (M.A., M.S., M.Eng., MBA, etc.)\"),\"Master's Degree\",\n",
    "                             np.where((AI_Threat_developer_df['EdLevel'] == \"Some college/university study without earning a degree\"),'Some College / University',\n",
    "                             np.where((AI_Threat_developer_df['EdLevel'] == \"Associate degree (A.A., A.S., etc.)\"), \"Associate's Degree\",\n",
    "                             np.where((AI_Threat_developer_df['EdLevel'] == \"Professional degree (JD, MD, Ph.D, Ed.D, etc.)\"), \"Professional Degree (JD, MD, Ph.D, etc.)\",\n",
    "                             np.where((AI_Threat_developer_df['EdLevel'] == \"Secondary school (e.g. American high school, German Realschule or Gymnasium, etc.)\"), \"High School\",     \n",
    "                            'Other'))))))"
   ]
  },
  {
   "cell_type": "code",
   "execution_count": 32,
   "id": "503aa25a-a25b-4201-9689-6ca1b332306e",
   "metadata": {},
   "outputs": [
    {
     "name": "stdout",
     "output_type": "stream",
     "text": [
      "EdLevel\n",
      "Bachelor's Degree                           1965\n",
      "Master's Degree                             1084\n",
      "Some College / University                    453\n",
      "High School                                  208\n",
      "Associate's Degree                           126\n",
      "Professional Degree (JD, MD, Ph.D, etc.)     117\n",
      "Other                                         84\n",
      "Name: count, dtype: int64\n"
     ]
    }
   ],
   "source": [
    "#Examine the value counts in the modified 'EdLevel' column\n",
    "EdLevel_counts = AI_Threat_developer_df['EdLevel'].value_counts()\n",
    "print(EdLevel_counts)"
   ]
  },
  {
   "cell_type": "code",
   "execution_count": 33,
   "id": "3752dcd5-7748-4c52-9215-14cd8d06a264",
   "metadata": {},
   "outputs": [],
   "source": [
    "#Modify the value counts to be percentages in the 'EdLevel' column\n",
    "EdLevel_percentages = EdLevel_counts / len(AI_Threat_developer_df) * 100"
   ]
  },
  {
   "cell_type": "code",
   "execution_count": 34,
   "id": "80f7313c-ed2e-4e1e-bb1e-028ba3cdc009",
   "metadata": {},
   "outputs": [
    {
     "data": {
      "image/png": "[encoded data removed]",
      "text/plain": [
       "<Figure size 640x480 with 1 Axes>"
      ]
     },
     "metadata": {},
     "output_type": "display_data"
    }
   ],
   "source": [
    "#Create the bar chart\n",
    "fig, ax = plt.subplots()\n",
    "bars = ax.bar(EdLevel_percentages.index, EdLevel_percentages.values)\n",
    "\n",
    "#Create the x- and y-axis labels\n",
    "plt.xlabel('Education Level')\n",
    "plt.xticks(rotation='vertical')\n",
    "plt.ylabel('% of Respondents')\n",
    "ax.yaxis.set_major_formatter(mtick.PercentFormatter()) #Format counts as percentages\n",
    "\n",
    "#Show the plot\n",
    "plt.show()"
   ]
  },
  {
   "cell_type": "markdown",
   "id": "4ed6ec09-5de2-4b8d-9aef-06ed53ddbc58",
   "metadata": {},
   "source": [
    "##### **Software developers who feel threatened by AI primarily have a bachelor's degree.**"
   ]
  },
  {
   "cell_type": "markdown",
   "id": "c3a324ed-9b9a-4b86-8567-47e4d42c8efb",
   "metadata": {},
   "source": [
    "#### **5. What Country Are Software Developers Who Feel Threatened By AI From? (Top 10)**"
   ]
  },
  {
   "cell_type": "code",
   "execution_count": 35,
   "id": "7e13d88a-c844-4266-bebc-50c205237bd3",
   "metadata": {},
   "outputs": [
    {
     "data": {
      "text/plain": [
       "np.int64(149)"
      ]
     },
     "execution_count": 35,
     "metadata": {},
     "output_type": "execute_result"
    }
   ],
   "source": [
    "#Check for any missing values in the 'Country' column\n",
    "AI_Threat_developer_df['Country'].isnull().sum()"
   ]
  },
  {
   "cell_type": "code",
   "execution_count": 36,
   "id": "5991ba6f-2986-416a-8724-e30bdc7e1567",
   "metadata": {},
   "outputs": [],
   "source": [
    "#Impute any missing values with the mode in the 'Country' column (the mode is a common method for handling missing values for categorical data)\n",
    "AI_Threat_developer_df['Country'] = AI_Threat_developer_df['Country'].fillna(AI_Threat_developer_df['Country'].mode()[0])"
   ]
  },
  {
   "cell_type": "code",
   "execution_count": 37,
   "id": "688f9d1d-9f5c-4a9d-b4ec-31b1d51dc539",
   "metadata": {},
   "outputs": [
    {
     "name": "stdout",
     "output_type": "stream",
     "text": [
      "Country\n",
      "United States of America                                816\n",
      "India                                                   447\n",
      "Germany                                                 226\n",
      "Ukraine                                                 216\n",
      "United Kingdom of Great Britain and Northern Ireland    179\n",
      "Canada                                                  142\n",
      "France                                                  140\n",
      "Poland                                                  106\n",
      "Brazil                                                   94\n",
      "Italy                                                    93\n",
      "Name: count, dtype: int64\n"
     ]
    }
   ],
   "source": [
    "#Examine the value counts for the top 10 countries \n",
    "top_10_Country_counts = AI_Threat_developer_df['Country'].value_counts().nlargest(10)\n",
    "print(top_10_Country_counts)"
   ]
  },
  {
   "cell_type": "code",
   "execution_count": 38,
   "id": "223fafd5-4f8a-40a7-bc5c-7247333c2c75",
   "metadata": {},
   "outputs": [],
   "source": [
    "#Modify the value counts for the top 10 countries to be percentages\n",
    "top_10_Country_percentages = top_10_Country_counts / len(AI_Threat_developer_df) * 100"
   ]
  },
  {
   "cell_type": "code",
   "execution_count": 39,
   "id": "d38c8048-f61b-47f6-9a39-8fc3b96040fa",
   "metadata": {},
   "outputs": [
    {
     "data": {
      "image/png": "[encoded data removed]",
      "text/plain": [
       "<Figure size 640x480 with 1 Axes>"
      ]
     },
     "metadata": {},
     "output_type": "display_data"
    }
   ],
   "source": [
    "#Create the bar chart\n",
    "fig, ax = plt.subplots()\n",
    "bars = ax.bar(top_10_Country_percentages.index, top_10_Country_percentages.values)\n",
    "\n",
    "#Create the x- and y-axis labels\n",
    "plt.xlabel('Top 10 Countries')\n",
    "plt.xticks(rotation='vertical')\n",
    "plt.ylabel('% of Respondents')\n",
    "ax.yaxis.set_major_formatter(mtick.PercentFormatter()) #Format counts as percentages\n",
    "\n",
    "# Show the plot\n",
    "plt.show()"
   ]
  },
  {
   "cell_type": "markdown",
   "id": "827d7f15-f6e5-4df1-969c-3b753ae48f6a",
   "metadata": {},
   "source": [
    "##### **Software developers who feel threatened by AI primarily come from the United States, followed by India, and then Germany.**"
   ]
  }
 ],
 "metadata": {
  "kernelspec": {
   "display_name": "Python 3 (ipykernel)",
   "language": "python",
   "name": "python3"
  },
  "language_info": {
   "codemirror_mode": {
    "name": "ipython",
    "version": 3
   },
   "file_extension": ".py",
   "mimetype": "text/x-python",
   "name": "python",
   "nbconvert_exporter": "python",
   "pygments_lexer": "ipython3",
   "version": "3.13.2"
  }
 },
 "nbformat": 4,
 "nbformat_minor": 5
}
